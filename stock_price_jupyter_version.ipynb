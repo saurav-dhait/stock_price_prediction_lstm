{
 "cells": [
  {
   "cell_type": "code",
   "execution_count": 1,
   "id": "d7669ab1-9137-4075-878a-aef50c392e4a",
   "metadata": {},
   "outputs": [],
   "source": [
    "import numpy as np \n",
    "import matplotlib.pyplot as plt\n",
    "import pandas as pd\n",
    "import torch \n",
    "import torch.nn as nn"
   ]
  },
  {
   "cell_type": "code",
   "execution_count": 2,
   "id": "3fa6bada-6bca-49c4-b088-573e6e83213b",
   "metadata": {},
   "outputs": [],
   "source": [
    "data = pd.read_csv(\"AMZN.csv\")"
   ]
  },
  {
   "cell_type": "code",
   "execution_count": 3,
   "id": "29f2848d-d5bd-414c-b553-61e738411a4d",
   "metadata": {},
   "outputs": [],
   "source": [
    "device = \"cuda\" if torch.cuda.is_available() else \"cpu\""
   ]
  },
  {
   "cell_type": "code",
   "execution_count": 4,
   "id": "f581937f-9aa1-4535-a533-0b44e3c8a466",
   "metadata": {},
   "outputs": [],
   "source": [
    "data[\"Date\"] = pd.to_datetime(data[\"Date\"])"
   ]
  },
  {
   "cell_type": "code",
   "execution_count": 5,
   "id": "c0f6b8a9-016e-4171-8ff1-159d5520b0db",
   "metadata": {},
   "outputs": [
    {
     "data": {
      "text/plain": [
       "[<matplotlib.lines.Line2D at 0x19710489d30>]"
      ]
     },
     "execution_count": 5,
     "metadata": {},
     "output_type": "execute_result"
    },
    {
     "data": {
      "image/png": "[encoded data removed]",
      "text/plain": [
       "<Figure size 640x480 with 1 Axes>"
      ]
     },
     "metadata": {},
     "output_type": "display_data"
    }
   ],
   "source": [
    "plt.plot(data[\"Date\"], data[\"Close\"])"
   ]
  },
  {
   "cell_type": "code",
   "execution_count": 6,
   "id": "59f544e7-0012-44d4-b66f-9359cfa3344f",
   "metadata": {},
   "outputs": [
    {
     "data": {
      "text/html": [
       "<div>\n",
       "<style scoped>\n",
       "    .dataframe tbody tr th:only-of-type {\n",
       "        vertical-align: middle;\n",
       "    }\n",
       "\n",
       "    .dataframe tbody tr th {\n",
       "        vertical-align: top;\n",
       "    }\n",
       "\n",
       "    .dataframe thead th {\n",
       "        text-align: right;\n",
       "    }\n",
       "</style>\n",
       "<table border=\"1\" class=\"dataframe\">\n",
       "  <thead>\n",
       "    <tr style=\"text-align: right;\">\n",
       "      <th></th>\n",
       "      <th>Close</th>\n",
       "      <th>Close(t-1)</th>\n",
       "      <th>Close(t-2)</th>\n",
       "      <th>Close(t-3)</th>\n",
       "      <th>Close(t-4)</th>\n",
       "      <th>Close(t-5)</th>\n",
       "      <th>Close(t-6)</th>\n",
       "      <th>Close(t-7)</th>\n",
       "    </tr>\n",
       "    <tr>\n",
       "      <th>Date</th>\n",
       "      <th></th>\n",
       "      <th></th>\n",
       "      <th></th>\n",
       "      <th></th>\n",
       "      <th></th>\n",
       "      <th></th>\n",
       "      <th></th>\n",
       "      <th></th>\n",
       "    </tr>\n",
       "  </thead>\n",
       "  <tbody>\n",
       "    <tr>\n",
       "      <th>1997-05-27</th>\n",
       "      <td>0.079167</td>\n",
       "      <td>0.075000</td>\n",
       "      <td>0.069792</td>\n",
       "      <td>0.071354</td>\n",
       "      <td>0.081771</td>\n",
       "      <td>0.085417</td>\n",
       "      <td>0.086458</td>\n",
       "      <td>0.097917</td>\n",
       "    </tr>\n",
       "    <tr>\n",
       "      <th>1997-05-28</th>\n",
       "      <td>0.076563</td>\n",
       "      <td>0.079167</td>\n",
       "      <td>0.075000</td>\n",
       "      <td>0.069792</td>\n",
       "      <td>0.071354</td>\n",
       "      <td>0.081771</td>\n",
       "      <td>0.085417</td>\n",
       "      <td>0.086458</td>\n",
       "    </tr>\n",
       "    <tr>\n",
       "      <th>1997-05-29</th>\n",
       "      <td>0.075260</td>\n",
       "      <td>0.076563</td>\n",
       "      <td>0.079167</td>\n",
       "      <td>0.075000</td>\n",
       "      <td>0.069792</td>\n",
       "      <td>0.071354</td>\n",
       "      <td>0.081771</td>\n",
       "      <td>0.085417</td>\n",
       "    </tr>\n",
       "    <tr>\n",
       "      <th>1997-05-30</th>\n",
       "      <td>0.075000</td>\n",
       "      <td>0.075260</td>\n",
       "      <td>0.076563</td>\n",
       "      <td>0.079167</td>\n",
       "      <td>0.075000</td>\n",
       "      <td>0.069792</td>\n",
       "      <td>0.071354</td>\n",
       "      <td>0.081771</td>\n",
       "    </tr>\n",
       "    <tr>\n",
       "      <th>1997-06-02</th>\n",
       "      <td>0.075521</td>\n",
       "      <td>0.075000</td>\n",
       "      <td>0.075260</td>\n",
       "      <td>0.076563</td>\n",
       "      <td>0.079167</td>\n",
       "      <td>0.075000</td>\n",
       "      <td>0.069792</td>\n",
       "      <td>0.071354</td>\n",
       "    </tr>\n",
       "    <tr>\n",
       "      <th>...</th>\n",
       "      <td>...</td>\n",
       "      <td>...</td>\n",
       "      <td>...</td>\n",
       "      <td>...</td>\n",
       "      <td>...</td>\n",
       "      <td>...</td>\n",
       "      <td>...</td>\n",
       "      <td>...</td>\n",
       "    </tr>\n",
       "    <tr>\n",
       "      <th>2023-03-30</th>\n",
       "      <td>102.000000</td>\n",
       "      <td>100.250000</td>\n",
       "      <td>97.239998</td>\n",
       "      <td>98.040001</td>\n",
       "      <td>98.129997</td>\n",
       "      <td>98.709999</td>\n",
       "      <td>98.699997</td>\n",
       "      <td>100.610001</td>\n",
       "    </tr>\n",
       "    <tr>\n",
       "      <th>2023-03-31</th>\n",
       "      <td>103.290001</td>\n",
       "      <td>102.000000</td>\n",
       "      <td>100.250000</td>\n",
       "      <td>97.239998</td>\n",
       "      <td>98.040001</td>\n",
       "      <td>98.129997</td>\n",
       "      <td>98.709999</td>\n",
       "      <td>98.699997</td>\n",
       "    </tr>\n",
       "    <tr>\n",
       "      <th>2023-04-03</th>\n",
       "      <td>102.410004</td>\n",
       "      <td>103.290001</td>\n",
       "      <td>102.000000</td>\n",
       "      <td>100.250000</td>\n",
       "      <td>97.239998</td>\n",
       "      <td>98.040001</td>\n",
       "      <td>98.129997</td>\n",
       "      <td>98.709999</td>\n",
       "    </tr>\n",
       "    <tr>\n",
       "      <th>2023-04-04</th>\n",
       "      <td>103.949997</td>\n",
       "      <td>102.410004</td>\n",
       "      <td>103.290001</td>\n",
       "      <td>102.000000</td>\n",
       "      <td>100.250000</td>\n",
       "      <td>97.239998</td>\n",
       "      <td>98.040001</td>\n",
       "      <td>98.129997</td>\n",
       "    </tr>\n",
       "    <tr>\n",
       "      <th>2023-04-05</th>\n",
       "      <td>101.099998</td>\n",
       "      <td>103.949997</td>\n",
       "      <td>102.410004</td>\n",
       "      <td>103.290001</td>\n",
       "      <td>102.000000</td>\n",
       "      <td>100.250000</td>\n",
       "      <td>97.239998</td>\n",
       "      <td>98.040001</td>\n",
       "    </tr>\n",
       "  </tbody>\n",
       "</table>\n",
       "<p>6509 rows × 8 columns</p>\n",
       "</div>"
      ],
      "text/plain": [
       "                 Close  Close(t-1)  Close(t-2)  Close(t-3)  Close(t-4)  \\\n",
       "Date                                                                     \n",
       "1997-05-27    0.079167    0.075000    0.069792    0.071354    0.081771   \n",
       "1997-05-28    0.076563    0.079167    0.075000    0.069792    0.071354   \n",
       "1997-05-29    0.075260    0.076563    0.079167    0.075000    0.069792   \n",
       "1997-05-30    0.075000    0.075260    0.076563    0.079167    0.075000   \n",
       "1997-06-02    0.075521    0.075000    0.075260    0.076563    0.079167   \n",
       "...                ...         ...         ...         ...         ...   \n",
       "2023-03-30  102.000000  100.250000   97.239998   98.040001   98.129997   \n",
       "2023-03-31  103.290001  102.000000  100.250000   97.239998   98.040001   \n",
       "2023-04-03  102.410004  103.290001  102.000000  100.250000   97.239998   \n",
       "2023-04-04  103.949997  102.410004  103.290001  102.000000  100.250000   \n",
       "2023-04-05  101.099998  103.949997  102.410004  103.290001  102.000000   \n",
       "\n",
       "            Close(t-5)  Close(t-6)  Close(t-7)  \n",
       "Date                                            \n",
       "1997-05-27    0.085417    0.086458    0.097917  \n",
       "1997-05-28    0.081771    0.085417    0.086458  \n",
       "1997-05-29    0.071354    0.081771    0.085417  \n",
       "1997-05-30    0.069792    0.071354    0.081771  \n",
       "1997-06-02    0.075000    0.069792    0.071354  \n",
       "...                ...         ...         ...  \n",
       "2023-03-30   98.709999   98.699997  100.610001  \n",
       "2023-03-31   98.129997   98.709999   98.699997  \n",
       "2023-04-03   98.040001   98.129997   98.709999  \n",
       "2023-04-04   97.239998   98.040001   98.129997  \n",
       "2023-04-05  100.250000   97.239998   98.040001  \n",
       "\n",
       "[6509 rows x 8 columns]"
      ]
     },
     "execution_count": 6,
     "metadata": {},
     "output_type": "execute_result"
    }
   ],
   "source": [
    "from copy import deepcopy as dc\n",
    "\n",
    "def prepare_dataframe_for_lstm(df, n_steps):\n",
    "    df = dc(df)\n",
    "    \n",
    "    df.set_index('Date', inplace=True)\n",
    "    \n",
    "    for i in range(1, n_steps+1):\n",
    "        df[f'Close(t-{i})'] = df['Close'].shift(i)\n",
    "        \n",
    "    df.dropna(inplace=True)\n",
    "    \n",
    "    return df\n",
    "data = data[['Date', 'Close']]\n",
    "lookback = 7\n",
    "shifted_df = prepare_dataframe_for_lstm(data, lookback)\n",
    "shifted_df"
   ]
  },
  {
   "cell_type": "code",
   "execution_count": 7,
   "id": "923b5cd5-8a8c-4de1-873b-99693c8368bc",
   "metadata": {},
   "outputs": [
    {
     "data": {
      "text/plain": [
       "array([0.076563, 0.079167, 0.075   , 0.069792, 0.071354, 0.081771,\n",
       "       0.085417, 0.086458])"
      ]
     },
     "execution_count": 7,
     "metadata": {},
     "output_type": "execute_result"
    }
   ],
   "source": [
    "shifted_df_as_np_array = shifted_df.to_numpy()\n",
    "shifted_df_as_np_array[1]"
   ]
  },
  {
   "cell_type": "code",
   "execution_count": 8,
   "id": "0097e1f2-70b9-4a65-af8c-c119a02cc163",
   "metadata": {},
   "outputs": [
    {
     "data": {
      "text/plain": [
       "array([[-0.99991063, -0.99995531, -1.        , ..., -0.99983244,\n",
       "        -0.99982128, -0.99969839],\n",
       "       [-0.99993855, -0.99991063, -0.99994415, ..., -0.99987154,\n",
       "        -0.99983244, -0.99982128],\n",
       "       [-0.99995253, -0.99993855, -0.99989946, ..., -0.99998325,\n",
       "        -0.99987154, -0.99983244],\n",
       "       ...,\n",
       "       [ 0.09747299,  0.10690997,  0.09308121, ...,  0.0506149 ,\n",
       "         0.05158   ,  0.05779984],\n",
       "       [ 0.11398769,  0.09747299,  0.10691495, ...,  0.04203581,\n",
       "         0.0506149 ,  0.05158   ],\n",
       "       [ 0.08342464,  0.11398769,  0.09747802, ...,  0.07431453,\n",
       "         0.04203581,  0.0506149 ]])"
      ]
     },
     "execution_count": 8,
     "metadata": {},
     "output_type": "execute_result"
    }
   ],
   "source": [
    "from sklearn.preprocessing import MinMaxScaler\n",
    "# scale the values up or down to be in a certain range \n",
    "scaler = MinMaxScaler(feature_range=(-1, 1))\n",
    "shifted_df_as_np_array = scaler.fit_transform(shifted_df_as_np_array)\n",
    "\n",
    "shifted_df_as_np_array"
   ]
  },
  {
   "cell_type": "code",
   "execution_count": 9,
   "id": "265e94ba-16dd-4b3a-931e-1fbd1f0030cf",
   "metadata": {},
   "outputs": [
    {
     "data": {
      "text/plain": [
       "((6509, 7), (6509,))"
      ]
     },
     "execution_count": 9,
     "metadata": {},
     "output_type": "execute_result"
    }
   ],
   "source": [
    "x = shifted_df_as_np_array[:, 1:]\n",
    "y = shifted_df_as_np_array[:, 0]\n",
    "\n",
    "x.shape, y.shape"
   ]
  },
  {
   "cell_type": "code",
   "execution_count": 10,
   "id": "3c1e9d77-09e5-46c0-baa0-dcdbd0e11098",
   "metadata": {},
   "outputs": [
    {
     "data": {
      "text/plain": [
       "array([[-0.99969839, -0.99982128, -0.99983244, ..., -0.99998325,\n",
       "        -1.        , -0.99995531],\n",
       "       [-0.99982128, -0.99983244, -0.99987154, ..., -1.        ,\n",
       "        -0.99994415, -0.99991063],\n",
       "       [-0.99983244, -0.99987154, -0.99998325, ..., -0.99994415,\n",
       "        -0.99989946, -0.99993855],\n",
       "       ...,\n",
       "       [ 0.05779984,  0.05158   ,  0.0506149 , ...,  0.07431453,\n",
       "         0.09308121,  0.10690997],\n",
       "       [ 0.05158   ,  0.0506149 ,  0.04203581, ...,  0.09308121,\n",
       "         0.10691495,  0.09747299],\n",
       "       [ 0.0506149 ,  0.04203581,  0.07431453, ...,  0.10691495,\n",
       "         0.09747802,  0.11398769]])"
      ]
     },
     "execution_count": 10,
     "metadata": {},
     "output_type": "execute_result"
    }
   ],
   "source": [
    "x = dc(np.flip(x, axis=1))\n",
    "x"
   ]
  },
  {
   "cell_type": "code",
   "execution_count": 11,
   "id": "4b2f9e75-d8ef-4968-8b56-2d9756a14934",
   "metadata": {},
   "outputs": [
    {
     "data": {
      "text/plain": [
       "6183"
      ]
     },
     "execution_count": 11,
     "metadata": {},
     "output_type": "execute_result"
    }
   ],
   "source": [
    "split_index = int(len(x)*0.95)\n",
    "split_index"
   ]
  },
  {
   "cell_type": "code",
   "execution_count": 12,
   "id": "2aec7844-48e5-453f-b430-7824d6b95640",
   "metadata": {},
   "outputs": [
    {
     "data": {
      "text/plain": [
       "((6183, 7), (6183,), (326, 7), (326,))"
      ]
     },
     "execution_count": 12,
     "metadata": {},
     "output_type": "execute_result"
    }
   ],
   "source": [
    "x_train = x[:split_index]\n",
    "x_test = x[split_index:]\n",
    "y_train = y[:split_index]\n",
    "y_test = y[split_index:]\n",
    "x_train.shape, y_train.shape, x_test.shape, y_test.shape\n"
   ]
  },
  {
   "cell_type": "code",
   "execution_count": 15,
   "id": "989d6910-c9e2-482b-bda7-c22ff007865b",
   "metadata": {},
   "outputs": [
    {
     "data": {
      "text/plain": [
       "((6183, 7, 1), (326, 7, 1), (6183, 1), (326, 1))"
      ]
     },
     "execution_count": 15,
     "metadata": {},
     "output_type": "execute_result"
    }
   ],
   "source": [
    "x_train = x_train.reshape((-1, lookback, 1))\n",
    "x_test = x_test.reshape((-1, lookback, 1))\n",
    "\n",
    "y_train = y_train.reshape((-1, 1))\n",
    "y_test = y_test.reshape((-1, 1))\n",
    "\n",
    "x_train.shape, x_test.shape, y_train.shape, y_test.shape"
   ]
  },
  {
   "cell_type": "code",
   "execution_count": 16,
   "id": "8338b2f8-ee28-4cfc-b34e-355166681cd2",
   "metadata": {},
   "outputs": [
    {
     "data": {
      "text/plain": [
       "(torch.Size([6183, 7, 1]),\n",
       " torch.Size([326, 7, 1]),\n",
       " torch.Size([6183, 1]),\n",
       " torch.Size([326, 1]))"
      ]
     },
     "execution_count": 16,
     "metadata": {},
     "output_type": "execute_result"
    }
   ],
   "source": [
    "x_train = torch.tensor(x_train).float()\n",
    "y_train = torch.tensor(y_train).float()\n",
    "x_test = torch.tensor(x_test).float()\n",
    "y_test = torch.tensor(y_test).float()\n",
    "\n",
    "x_train.shape, x_test.shape, y_train.shape, y_test.shape"
   ]
  },
  {
   "cell_type": "code",
   "execution_count": 17,
   "id": "c4073de6-e2e1-47a6-8eea-3cf34cd39b5a",
   "metadata": {},
   "outputs": [],
   "source": [
    "from torch.utils.data import Dataset\n",
    "\n",
    "class TimeSeriesDataset(Dataset):\n",
    "    def __init__(self, x, y):\n",
    "        self.x = x\n",
    "        self.y = y\n",
    "\n",
    "    def __len__(self):\n",
    "        return len(self.x)\n",
    "\n",
    "    def __getitem__(self, i):\n",
    "        return self.x[i], self.y[i]\n",
    "    \n",
    "train_dataset = TimeSeriesDataset(x_train, y_train)\n",
    "test_dataset = TimeSeriesDataset(x_test, y_test)"
   ]
  },
  {
   "cell_type": "code",
   "execution_count": 18,
   "id": "b7ceb8f3-cd1a-4034-97c1-03563f511ae8",
   "metadata": {},
   "outputs": [],
   "source": [
    "from torch.utils.data import DataLoader\n",
    "\n",
    "batch_size = 16\n",
    "\n",
    "train_loader = DataLoader(train_dataset, batch_size=batch_size, shuffle=True)\n",
    "test_loader = DataLoader(test_dataset, batch_size=batch_size, shuffle=False)"
   ]
  },
  {
   "cell_type": "code",
   "execution_count": 19,
   "id": "523dbe6e-a8c4-4eab-b29f-89485d527e72",
   "metadata": {},
   "outputs": [
    {
     "name": "stdout",
     "output_type": "stream",
     "text": [
      "torch.Size([16, 7, 1]) torch.Size([16, 1])\n"
     ]
    }
   ],
   "source": [
    "for _, batch in enumerate(train_loader):\n",
    "    x_batch, y_batch = batch[0].to(device), batch[1].to(device)\n",
    "    print(x_batch.shape, y_batch.shape)\n",
    "    break"
   ]
  },
  {
   "cell_type": "code",
   "execution_count": 20,
   "id": "f3c9f6d5-dda9-4c9c-9c87-e3f27617a34e",
   "metadata": {},
   "outputs": [
    {
     "data": {
      "text/plain": [
       "LSTM(\n",
       "  (lstm): LSTM(1, 4, batch_first=True)\n",
       "  (fc): Linear(in_features=4, out_features=1, bias=True)\n",
       ")"
      ]
     },
     "execution_count": 20,
     "metadata": {},
     "output_type": "execute_result"
    }
   ],
   "source": [
    "class LSTM(nn.Module):\n",
    "    def __init__(self, input_size, hidden_size, num_stacked_layers):\n",
    "        super().__init__()\n",
    "        self.hidden_size = hidden_size\n",
    "        self.num_stacked_layers = num_stacked_layers\n",
    "\n",
    "        self.lstm = nn.LSTM(input_size, hidden_size, num_stacked_layers, \n",
    "                            batch_first=True)\n",
    "        \n",
    "        self.fc = nn.Linear(hidden_size, 1)\n",
    "\n",
    "    def forward(self, x):\n",
    "        batch_size = x.size(0)\n",
    "        h0 = torch.zeros(self.num_stacked_layers, batch_size, self.hidden_size).to(device)\n",
    "        c0 = torch.zeros(self.num_stacked_layers, batch_size, self.hidden_size).to(device)\n",
    "        \n",
    "        out, _ = self.lstm(x, (h0, c0))\n",
    "        out = self.fc(out[:, -1, :])\n",
    "        return out\n",
    "\n",
    "model = LSTM(1, 4, 1)\n",
    "model.to(device)\n",
    "model"
   ]
  },
  {
   "cell_type": "code",
   "execution_count": 21,
   "id": "bfedaa32-894c-4120-a7eb-4899fbdcbed7",
   "metadata": {},
   "outputs": [],
   "source": [
    "def train_one_epoch():\n",
    "    model.train(True)\n",
    "    print(f'Epoch: {epoch + 1}')\n",
    "    running_loss = 0.0\n",
    "    \n",
    "    for batch_index, batch in enumerate(train_loader):\n",
    "        x_batch, y_batch = batch[0].to(device), batch[1].to(device)\n",
    "        \n",
    "        output = model(x_batch)\n",
    "        loss = loss_function(output, y_batch)\n",
    "        running_loss += loss.item()\n",
    "        \n",
    "        optimizer.zero_grad()\n",
    "        loss.backward()\n",
    "        optimizer.step()\n",
    "\n",
    "        if batch_index % 100 == 99:  # print every 100 batches\n",
    "            avg_loss_across_batches = running_loss / 100\n",
    "            print('Batch {0}, Loss: {1:.3f}'.format(batch_index+1,\n",
    "                                                    avg_loss_across_batches))\n",
    "            running_loss = 0.0\n",
    "    print()"
   ]
  },
  {
   "cell_type": "code",
   "execution_count": 22,
   "id": "efc0b525-6c1f-4b4a-b326-afad963d0dbd",
   "metadata": {},
   "outputs": [],
   "source": [
    "def validate_one_epoch():\n",
    "    model.train(False)\n",
    "    running_loss = 0.0\n",
    "    \n",
    "    for batch_index, batch in enumerate(test_loader):\n",
    "        x_batch, y_batch = batch[0].to(device), batch[1].to(device)\n",
    "        \n",
    "        with torch.no_grad():\n",
    "            output = model(x_batch)\n",
    "            loss = loss_function(output, y_batch)\n",
    "            running_loss += loss.item()\n",
    "\n",
    "    avg_loss_across_batches = running_loss / len(test_loader)\n",
    "    \n",
    "    print('Val Loss: {0:.3f}'.format(avg_loss_across_batches))\n",
    "    print('***************************************************')\n",
    "    print()"
   ]
  },
  {
   "cell_type": "code",
   "execution_count": 23,
   "id": "6e7598dd-ab44-4076-ab08-2d197f1dda74",
   "metadata": {},
   "outputs": [
    {
     "name": "stdout",
     "output_type": "stream",
     "text": [
      "Epoch: 1\n",
      "Batch 100, Loss: 0.845\n",
      "Batch 200, Loss: 0.240\n",
      "Batch 300, Loss: 0.109\n",
      "\n",
      "Val Loss: 0.252\n",
      "***************************************************\n",
      "\n",
      "Epoch: 2\n",
      "Batch 100, Loss: 0.041\n",
      "Batch 200, Loss: 0.029\n",
      "Batch 300, Loss: 0.019\n",
      "\n",
      "Val Loss: 0.059\n",
      "***************************************************\n",
      "\n",
      "Epoch: 3\n",
      "Batch 100, Loss: 0.016\n",
      "Batch 200, Loss: 0.012\n",
      "Batch 300, Loss: 0.011\n",
      "\n",
      "Val Loss: 0.022\n",
      "***************************************************\n",
      "\n",
      "Epoch: 4\n",
      "Batch 100, Loss: 0.007\n",
      "Batch 200, Loss: 0.004\n",
      "Batch 300, Loss: 0.003\n",
      "\n",
      "Val Loss: 0.010\n",
      "***************************************************\n",
      "\n",
      "Epoch: 5\n",
      "Batch 100, Loss: 0.002\n",
      "Batch 200, Loss: 0.001\n",
      "Batch 300, Loss: 0.001\n",
      "\n",
      "Val Loss: 0.007\n",
      "***************************************************\n",
      "\n",
      "Epoch: 6\n",
      "Batch 100, Loss: 0.000\n",
      "Batch 200, Loss: 0.000\n",
      "Batch 300, Loss: 0.000\n",
      "\n",
      "Val Loss: 0.006\n",
      "***************************************************\n",
      "\n",
      "Epoch: 7\n",
      "Batch 100, Loss: 0.000\n",
      "Batch 200, Loss: 0.000\n",
      "Batch 300, Loss: 0.001\n",
      "\n",
      "Val Loss: 0.007\n",
      "***************************************************\n",
      "\n",
      "Epoch: 8\n",
      "Batch 100, Loss: 0.000\n",
      "Batch 200, Loss: 0.000\n",
      "Batch 300, Loss: 0.000\n",
      "\n",
      "Val Loss: 0.005\n",
      "***************************************************\n",
      "\n",
      "Epoch: 9\n",
      "Batch 100, Loss: 0.000\n",
      "Batch 200, Loss: 0.000\n",
      "Batch 300, Loss: 0.000\n",
      "\n",
      "Val Loss: 0.006\n",
      "***************************************************\n",
      "\n",
      "Epoch: 10\n",
      "Batch 100, Loss: 0.000\n",
      "Batch 200, Loss: 0.000\n",
      "Batch 300, Loss: 0.000\n",
      "\n",
      "Val Loss: 0.006\n",
      "***************************************************\n",
      "\n"
     ]
    }
   ],
   "source": [
    "learning_rate = 0.001\n",
    "num_epochs = 10\n",
    "loss_function = nn.MSELoss()\n",
    "optimizer = torch.optim.Adam(model.parameters(), lr=learning_rate)\n",
    "\n",
    "for epoch in range(num_epochs):\n",
    "    train_one_epoch()\n",
    "    validate_one_epoch()"
   ]
  },
  {
   "cell_type": "code",
   "execution_count": 25,
   "id": "ace2d374-d05b-4703-bef4-f8c52974c681",
   "metadata": {},
   "outputs": [
    {
     "data": {
      "image/png": "[encoded data removed]",
      "text/plain": [
       "<Figure size 640x480 with 1 Axes>"
      ]
     },
     "metadata": {},
     "output_type": "display_data"
    }
   ],
   "source": [
    "with torch.no_grad():\n",
    "    predicted = model(x_train.to(device)).to('cpu').numpy()\n",
    "\n",
    "plt.plot(y_train, label='Actual Close')\n",
    "plt.plot(predicted, label='Predicted Close')\n",
    "plt.xlabel('Day')\n",
    "plt.ylabel('Close')\n",
    "plt.legend()\n",
    "plt.show()"
   ]
  },
  {
   "cell_type": "code",
   "execution_count": 26,
   "id": "6d06b735-3866-48fa-a3f2-70e79e2a25ce",
   "metadata": {},
   "outputs": [
    {
     "data": {
      "text/plain": [
       "array([  0.63120297,   0.63042483,   0.62954665, ..., 170.1237041 ,\n",
       "       170.05382182, 170.14587546])"
      ]
     },
     "execution_count": 26,
     "metadata": {},
     "output_type": "execute_result"
    }
   ],
   "source": [
    "train_predictions = predicted.flatten()\n",
    "\n",
    "dummies = np.zeros((x_train.shape[0], lookback+1))\n",
    "dummies[:, 0] = train_predictions\n",
    "dummies = scaler.inverse_transform(dummies)\n",
    "\n",
    "train_predictions = dc(dummies[:, 0])\n",
    "train_predictions"
   ]
  },
  {
   "cell_type": "code",
   "execution_count": 27,
   "id": "778da887-78fb-4247-a332-476c01b2fa6e",
   "metadata": {},
   "outputs": [
    {
     "data": {
      "text/plain": [
       "array([7.91646265e-02, 7.65634249e-02, 7.52572660e-02, ...,\n",
       "       1.69091505e+02, 1.73315001e+02, 1.68871003e+02])"
      ]
     },
     "execution_count": 27,
     "metadata": {},
     "output_type": "execute_result"
    }
   ],
   "source": [
    "dummies = np.zeros((x_train.shape[0], lookback+1))\n",
    "dummies[:, 0] = y_train.flatten()\n",
    "dummies = scaler.inverse_transform(dummies)\n",
    "\n",
    "new_y_train = dc(dummies[:, 0])\n",
    "new_y_train"
   ]
  },
  {
   "cell_type": "code",
   "execution_count": 28,
   "id": "9ad052fe-14e5-486c-8940-0d8e95238a25",
   "metadata": {},
   "outputs": [
    {
     "data": {
      "image/png": "[encoded data removed]",
      "text/plain": [
       "<Figure size 640x480 with 1 Axes>"
      ]
     },
     "metadata": {},
     "output_type": "display_data"
    }
   ],
   "source": [
    "plt.plot(new_y_train, label='Actual Close')\n",
    "plt.plot(train_predictions, label='Predicted Close')\n",
    "plt.xlabel('Day')\n",
    "plt.ylabel('Close')\n",
    "plt.legend()\n",
    "plt.show()"
   ]
  },
  {
   "cell_type": "code",
   "execution_count": 31,
   "id": "e15a957f-8cdb-40e0-8eee-fc4810f4bf14",
   "metadata": {},
   "outputs": [
    {
     "data": {
      "text/plain": [
       "array([169.72622605, 169.37006152, 168.91512915, 168.81048081,\n",
       "       168.91365069, 169.04025361, 168.82836685, 168.9391847 ,\n",
       "       168.88972852, 168.96640839, 168.70454298, 168.66655877,\n",
       "       168.43615233, 168.05040747, 167.50128159, 166.98669944,\n",
       "       166.42513447, 166.31143751, 165.9361975 , 165.4314699 ,\n",
       "       165.23994254, 164.84427087, 164.25457624, 163.24816134,\n",
       "       160.82498642, 158.46450157, 155.75720651, 152.60916897,\n",
       "       149.7936517 , 147.92130345, 147.60803652, 148.89451413,\n",
       "       149.8809587 , 149.83432049, 152.56219727, 155.06136285,\n",
       "       157.30954027, 158.74360272, 159.72089306, 160.14085372,\n",
       "       161.83096779, 161.69353208, 161.69129216, 160.97974124,\n",
       "       160.04730495, 159.05689744, 157.98471327, 157.47785135,\n",
       "       157.1148948 , 156.57173834, 156.14449653, 156.10370547,\n",
       "       155.85372888, 155.91076634, 153.96627921, 151.38365841,\n",
       "       149.21470093, 148.47531493, 147.45707234, 146.54158277,\n",
       "       146.88355185, 149.32296205, 152.45715431, 155.46084183,\n",
       "       157.39815898, 159.79388789, 162.20466264, 163.8300079 ,\n",
       "       164.88742414, 165.88127769, 166.54579021, 166.91639474,\n",
       "       166.75936664, 166.74270339, 167.09243161, 167.01949792,\n",
       "       166.19660668, 165.22254561, 164.14363055, 162.95385316,\n",
       "       161.60347381, 160.30298417, 158.94469561, 158.24500017,\n",
       "       158.29930304, 158.27909926, 157.94676796, 157.0837971 ,\n",
       "       155.86530089, 154.14541752, 151.99146141, 150.01376449,\n",
       "       145.40102257, 141.48701452, 137.99656325, 134.56538658,\n",
       "       130.58558426, 126.54811085, 120.85000644, 118.36159305,\n",
       "       115.29998154, 112.62929229, 110.89557196, 110.06984886,\n",
       "       110.30561333, 109.9163863 , 109.7107552 , 110.01402307,\n",
       "       110.05321062, 108.69800126, 108.11308662, 107.67640156,\n",
       "       108.92673748, 110.89636122, 112.98862494, 115.74316404,\n",
       "       118.46409596, 121.29613197, 123.18370391, 124.14108506,\n",
       "       123.45528492, 121.44278304, 117.92376302, 114.71893536,\n",
       "       112.14435438, 109.21466493, 107.14750724, 106.22430022,\n",
       "       106.21177499, 107.54213954, 109.606885  , 110.39250624,\n",
       "       110.80477724, 111.19152534, 110.77698385, 110.88398606,\n",
       "       111.06773205, 110.81961187, 111.37240056, 112.54336648,\n",
       "       112.92722436, 113.3132499 , 113.42014094, 112.97940124,\n",
       "       112.88232584, 112.51268564, 113.02012283, 114.75883434,\n",
       "       117.10762768, 118.93792317, 120.567626  , 120.7426763 ,\n",
       "       121.92245462, 122.5307912 , 124.52992023, 126.26598052,\n",
       "       128.22184235, 131.38012351, 136.07308027, 139.50188084,\n",
       "       142.3850627 , 142.91164484, 144.1285681 , 145.15425858,\n",
       "       145.77032094, 145.87856539, 146.53749755, 147.01074394,\n",
       "       147.70872748, 147.03799542, 145.83739637, 144.19561574,\n",
       "       142.58517181, 141.30149549, 139.36990599, 137.28890302,\n",
       "       135.70608296, 134.59295209, 133.57129682, 132.43412707,\n",
       "       130.58252173, 130.36510463, 130.36351501, 131.1422942 ,\n",
       "       132.76093359, 132.6247957 , 132.86513728, 132.88173383,\n",
       "       131.86572283, 130.92918187, 128.99152568, 126.06728318,\n",
       "       124.46472901, 122.04142069, 120.26549476, 118.77957224,\n",
       "       117.77958809, 116.62762817, 115.76842849, 115.61071675,\n",
       "       116.77907313, 117.67565118, 118.55438211, 117.99593803,\n",
       "       117.83739535, 117.68192353, 117.17222697, 115.82794765,\n",
       "       113.6158369 , 112.77506796, 113.09141409, 113.30193634,\n",
       "       113.75110494, 114.77737346, 115.93856264, 118.00254664,\n",
       "       118.22840097, 117.36320685, 115.48276042, 113.45277824,\n",
       "       109.93533672, 105.72324932, 101.17995545,  97.80664718,\n",
       "        95.10943178,  93.32372633,  91.11025939,  91.56732609,\n",
       "        93.01570071,  94.18753925,  95.25350111,  96.04670641,\n",
       "        96.5977304 ,  97.48888372,  96.80705487,  95.81968209,\n",
       "        95.27072017,  94.554292  ,  94.18969302,  93.82800094,\n",
       "        94.31016534,  94.69521543,  94.76170726,  94.22254153,\n",
       "        93.38201159,  92.61708046,  92.34749759,  91.35693168,\n",
       "        90.80436531,  90.75316944,  90.86004659,  90.73999947,\n",
       "        90.56560502,  89.70633864,  89.12488671,  88.65993026,\n",
       "        87.43654013,  86.71156635,  85.93172833,  85.10497419,\n",
       "        85.0844675 ,  84.93388127,  84.97002852,  85.13168931,\n",
       "        84.80030568,  85.31571043,  86.08078329,  86.97001907,\n",
       "        88.67382001,  89.99996039,  91.83931006,  93.40145946,\n",
       "        94.55265514,  95.25040245,  96.26906746,  96.61955714,\n",
       "        96.70369045,  96.63181003,  97.13856078,  98.1792304 ,\n",
       "        99.03076543,  99.9002115 , 101.01579072, 103.50065803,\n",
       "       104.11164305, 104.42524903, 104.38760108, 104.23244607,\n",
       "       103.46068123, 102.30093994, 100.61266284, 100.13958319,\n",
       "       100.0602382 ,  99.47194422,  99.05868388,  98.46372015,\n",
       "        98.20430587,  97.6975968 ,  96.7770549 ,  95.81760058,\n",
       "        95.32396421,  94.61413353,  94.25322793,  94.23927426,\n",
       "        93.98144405,  93.97818143,  94.00925967,  93.71063562,\n",
       "        93.43479708,  93.48131302,  93.60250511,  94.0159461 ,\n",
       "        95.04965416,  95.74149598,  96.42940542,  97.79524469,\n",
       "        98.55003224,  99.0349757 ,  99.23037708,  98.9652157 ,\n",
       "        98.71449433,  99.11789734,  99.40743387, 100.09245309,\n",
       "       100.58754568, 101.42014418])"
      ]
     },
     "execution_count": 31,
     "metadata": {},
     "output_type": "execute_result"
    }
   ],
   "source": [
    "test_predictions = model(x_test.to(device)).detach().cpu().numpy().flatten()\n",
    "\n",
    "dummies = np.zeros((x_test.shape[0], lookback+1))\n",
    "dummies[:, 0] = test_predictions\n",
    "dummies = scaler.inverse_transform(dummies)\n",
    "\n",
    "test_predictions = dc(dummies[:, 0])\n",
    "test_predictions"
   ]
  },
  {
   "cell_type": "code",
   "execution_count": 32,
   "id": "f6ae54f9-b49c-4d60-a710-70b4bc545835",
   "metadata": {},
   "outputs": [
    {
     "data": {
      "text/plain": [
       "array([170.01749949, 167.07899763, 170.41700626, 171.03700377,\n",
       "       171.0684961 , 169.66949429, 170.66099675, 169.20100565,\n",
       "       168.64449858, 166.71699707, 170.40449492, 167.52200227,\n",
       "       164.35699578, 163.25399737, 162.55400179, 161.48599177,\n",
       "       165.36199892, 165.20699954, 161.21400501, 162.13799851,\n",
       "       158.91749416, 156.29899568, 151.66749509, 142.64300408,\n",
       "       144.54400445, 139.98599336, 138.87249844, 139.63749627,\n",
       "       143.97799855, 149.57350001, 151.19349835, 150.61250219,\n",
       "       138.84550541, 157.63949825, 157.93550165, 161.41349717,\n",
       "       161.18949925, 159.003495  , 153.29350176, 155.1670061 ,\n",
       "       156.51049894, 158.10049453, 154.6524962 , 152.60149876,\n",
       "       150.19749381, 144.82699629, 151.35800212, 153.78849709,\n",
       "       153.56300403, 151.14199678, 152.05250627, 147.89849848,\n",
       "       145.64100565, 137.45300383, 136.01449488, 139.27900567,\n",
       "       146.81750468, 145.52450739, 141.8529947 , 147.36650272,\n",
       "       153.10400311, 157.23899657, 161.25050521, 161.49149987,\n",
       "       164.8890082 , 163.4080074 , 163.64950785, 164.77349929,\n",
       "       168.99049174, 169.31500275, 166.30099379, 162.99749555,\n",
       "       163.55999984, 168.34649425, 164.05499516, 158.75599734,\n",
       "       157.78449856, 154.4604964 , 151.1219931 , 150.78750525,\n",
       "       155.54100108, 151.70649644, 152.78500575, 158.11549591,\n",
       "       153.99799942, 148.29600432, 144.35000372, 146.07400567,\n",
       "       139.39100462, 138.16700588, 144.59649537, 124.2815027 ,\n",
       "       124.50000086, 124.25350088, 125.92849685, 116.40699847,\n",
       "       114.77249899, 108.78900163, 108.85900063, 105.37200234,\n",
       "       106.93049589, 113.05500005, 110.81050072, 115.36850069,\n",
       "       107.11250358, 107.31900035, 107.59100239, 107.55699918,\n",
       "       104.09999809, 106.77500184, 111.07749906, 115.14649953,\n",
       "       120.20950223, 121.68399725, 125.51100121, 122.34999935,\n",
       "       124.79000149, 122.99999961, 121.18000054, 116.15000198,\n",
       "       109.65000214, 103.66999806, 102.30999829, 107.6699986 ,\n",
       "       103.66000386, 106.22000101, 108.67999989, 108.94999683,\n",
       "       112.44000207, 116.45999935, 113.22000127, 107.40000166,\n",
       "       108.91999825, 106.20999917, 109.55999806, 113.50000006,\n",
       "       114.33000152, 116.3300018 , 115.54000075, 111.74999999,\n",
       "       109.22000073, 110.40000137, 110.62999651, 113.55000232,\n",
       "       113.76000211, 118.20999802, 122.76999614, 124.62999702,\n",
       "       122.41999835, 121.13999873, 114.80999825, 120.97000076,\n",
       "       122.28000035, 134.94999758, 135.38999806, 134.16000488,\n",
       "       139.5200031 , 142.57000925, 140.80000272, 139.41000507,\n",
       "       137.83000298, 142.69000357, 140.64000103, 143.55000084,\n",
       "       143.17999102, 144.7799968 , 142.10000324, 142.30000119,\n",
       "       138.22999608, 133.22000121, 133.61999431, 133.80000247,\n",
       "       137.27999891, 130.7499991 , 129.78999174, 128.72999653,\n",
       "       126.76999668, 127.82000117, 127.51000241, 126.11000014,\n",
       "       129.47999576, 129.82000839, 133.27000486, 136.44999605,\n",
       "       126.82000034, 128.55000227, 126.27999811, 123.52999999,\n",
       "       124.66000532, 122.19000322, 118.54000046, 117.30999894,\n",
       "       113.77999884, 115.15000254, 114.41000376, 118.01000286,\n",
       "       114.80000336, 112.99999964, 115.8799967 , 121.08999508,\n",
       "       120.94999707, 120.30000237, 114.55999805, 113.66999803,\n",
       "       112.2099986 , 112.90000206, 112.5299992 , 106.90000263,\n",
       "       113.79000069, 116.36000038, 115.0700003 , 115.25000012,\n",
       "       119.31999967, 119.82000008, 120.59999928, 115.66000341,\n",
       "       110.95999895, 103.41000365, 102.4400021 ,  96.79000116,\n",
       "        92.12000301,  89.30000302,  90.98000304,  90.52999899,\n",
       "        89.98000291,  86.13999884,  96.62999704, 100.79000101,\n",
       "        98.48999791,  98.94000197,  97.1200029 ,  94.84999805,\n",
       "        94.13999897,  92.45999904,  93.199997  ,  94.12999696,\n",
       "        93.410004  ,  93.94999701,  92.41999801,  96.54000095,\n",
       "        95.50000004,  94.12999696,  91.01000197,  88.24999993,\n",
       "        88.45999902,  90.34999813,  89.08999594,  90.55000302,\n",
       "        92.48999797,  91.58000208,  88.44999683,  87.86000102,\n",
       "        84.91999777,  85.19000167,  86.76999681,  83.79000078,\n",
       "        85.25000022,  83.04000085,  81.81999979,  84.17999969,\n",
       "        83.99999987,  85.82000033,  85.13999871,  83.12000309,\n",
       "        86.08000168,  87.3600013 ,  89.87000314,  95.08999606,\n",
       "        95.26999692,  98.12000304,  96.05000307,  95.45999893,\n",
       "        93.68      ,  97.25000011,  97.51999705,  96.32000002,\n",
       "        97.18000006,  99.22000076, 102.2399979 , 100.55000334,\n",
       "       103.12999722, 105.15000257, 112.9100039 , 103.38999927,\n",
       "       102.18000005, 102.11000105, 100.05000292,  98.23999805,\n",
       "        97.61000113,  99.54000066,  99.69999679, 101.16000387,\n",
       "        98.15000197,  97.19999715,  94.58000197,  95.79000102,\n",
       "        95.81999995,  93.5       ,  93.760002  ,  94.23000296,\n",
       "        92.16999798,  92.12999703,  94.90000205,  93.74999998,\n",
       "        93.55000299,  93.919998  ,  92.25000004,  90.73000301,\n",
       "        92.43000003,  94.87999697,  96.19999701, 100.04000108,\n",
       "        98.94999687,  97.70999906, 100.61000119,  98.69999701,\n",
       "        98.70999885,  98.12999689,  98.04000115,  97.23999792,\n",
       "       100.25000017, 102.00000023, 103.290001  , 102.41000421,\n",
       "       103.94999685, 101.09999768])"
      ]
     },
     "execution_count": 32,
     "metadata": {},
     "output_type": "execute_result"
    }
   ],
   "source": [
    "dummies = np.zeros((x_test.shape[0], lookback+1))\n",
    "dummies[:, 0] = y_test.flatten()\n",
    "dummies = scaler.inverse_transform(dummies)\n",
    "\n",
    "new_y_test = dc(dummies[:, 0])\n",
    "new_y_test"
   ]
  },
  {
   "cell_type": "code",
   "execution_count": 33,
   "id": "c584caf2-e267-48e1-b759-2d40a0ae47c5",
   "metadata": {},
   "outputs": [
    {
     "data": {
      "image/png": "[encoded data removed]",
      "text/plain": [
       "<Figure size 640x480 with 1 Axes>"
      ]
     },
     "metadata": {},
     "output_type": "display_data"
    }
   ],
   "source": [
    "plt.plot(new_y_test, label='Actual Close')\n",
    "plt.plot(test_predictions, label='Predicted Close')\n",
    "plt.xlabel('Day')\n",
    "plt.ylabel('Close')\n",
    "plt.legend()\n",
    "plt.show()\n"
   ]
  },
  {
   "cell_type": "code",
   "execution_count": 36,
   "id": "60f0ebc7-c455-4966-9ea7-ae67152ef0ae",
   "metadata": {},
   "outputs": [
    {
     "data": {
      "text/plain": [
       "tensor([[-1.4350],\n",
       "        [ 1.0365],\n",
       "        [-1.2852],\n",
       "        [-1.5851],\n",
       "        [-2.0757],\n",
       "        [-0.6106],\n",
       "        [-1.4584]])"
      ]
     },
     "execution_count": 36,
     "metadata": {},
     "output_type": "execute_result"
    }
   ],
   "source": [
    "torch.randn(333,7, 1)[0]"
   ]
  },
  {
   "cell_type": "code",
   "execution_count": null,
   "id": "cc528acc-0f96-4cf8-a0a6-6c1038091f1b",
   "metadata": {},
   "outputs": [],
   "source": []
  },
  {
   "cell_type": "code",
   "execution_count": null,
   "id": "31220f92-043f-49bd-a277-ce67f619b12d",
   "metadata": {},
   "outputs": [],
   "source": []
  }
 ],
 "metadata": {
  "kernelspec": {
   "display_name": "Python 3 (ipykernel)",
   "language": "python",
   "name": "python3"
  },
  "language_info": {
   "codemirror_mode": {
    "name": "ipython",
    "version": 3
   },
   "file_extension": ".py",
   "mimetype": "text/x-python",
   "name": "python",
   "nbconvert_exporter": "python",
   "pygments_lexer": "ipython3",
   "version": "3.12.3"
  }
 },
 "nbformat": 4,
 "nbformat_minor": 5
}
